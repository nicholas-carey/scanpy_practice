{
 "cells": [
  {
   "cell_type": "markdown",
   "metadata": {},
   "source": [
    "# Integrating Data Using Ingest and BBKNN"
   ]
  },
  {
   "cell_type": "markdown",
   "metadata": {},
   "source": [
    "This is a PCA-based method for integrating data using a function called ingest that compares with BBKNN.\n",
    "\n",
    "The ingest function assumes an annotated reference dataset that captures the biological variability of interest. We fit a model on the reference data and use it to project new data. This will be a PCA combined with a neighbor lookup search tree, for which we use UMAP's implementation.\n",
    "\n",
    "Like BBKNN, ingest leaves the data matrix itself invariant.\n",
    "\n",
    "Unlike BBKNN, ingest sovles the label mapping probelm and maintains an embedding that might have desired properties like specific clusters or trajectories."
   ]
  },
  {
   "cell_type": "code",
   "execution_count": 1,
   "metadata": {},
   "outputs": [],
   "source": [
    "import scanpy as sc\n",
    "import pandas as pd\n",
    "import seaborn as sns"
   ]
  },
  {
   "cell_type": "code",
   "execution_count": 2,
   "metadata": {},
   "outputs": [
    {
     "name": "stdout",
     "output_type": "stream",
     "text": [
      "scanpy==1.6.0 anndata==0.7.4 umap==0.4.6 numpy==1.18.5 scipy==1.5.0 pandas==1.0.5 scikit-learn==0.23.1 statsmodels==0.11.1 python-igraph==0.8.2 louvain==0.7.0 leidenalg==0.8.1\n"
     ]
    }
   ],
   "source": [
    "sc.settings.verbosity = 1\n",
    "sc.logging.print_header()\n",
    "sc.settings.set_figure_params(dpi=80, frameon=False, figsize=(3,3), facecolor='white')"
   ]
  },
  {
   "cell_type": "markdown",
   "metadata": {},
   "source": [
    "## PBMCs"
   ]
  },
  {
   "cell_type": "code",
   "execution_count": null,
   "metadata": {},
   "outputs": [],
   "source": []
  }
 ],
 "metadata": {
  "kernelspec": {
   "display_name": "Python 3",
   "language": "python",
   "name": "python3"
  },
  "language_info": {
   "codemirror_mode": {
    "name": "ipython",
    "version": 3
   },
   "file_extension": ".py",
   "mimetype": "text/x-python",
   "name": "python",
   "nbconvert_exporter": "python",
   "pygments_lexer": "ipython3",
   "version": "3.8.3"
  }
 },
 "nbformat": 4,
 "nbformat_minor": 4
}
